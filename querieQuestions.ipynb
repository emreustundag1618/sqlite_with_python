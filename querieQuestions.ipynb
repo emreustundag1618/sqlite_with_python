{
 "cells": [
  {
   "cell_type": "markdown",
   "id": "f6f1f504-15c2-488a-9a9a-c53108228c2e",
   "metadata": {},
   "source": [
    "## SQL Alıştırma - 1"
   ]
  },
  {
   "cell_type": "code",
   "execution_count": 3,
   "id": "58dde42a-1ac9-4b89-80d8-fa35b780cb16",
   "metadata": {},
   "outputs": [],
   "source": [
    "%load_ext sql"
   ]
  },
  {
   "cell_type": "code",
   "execution_count": 4,
   "id": "95101063-40ee-4f88-be68-a8de4334ed51",
   "metadata": {},
   "outputs": [],
   "source": [
    "%sql sqlite:///veri_tabani_ilk.db"
   ]
  },
  {
   "cell_type": "code",
   "execution_count": 5,
   "id": "f606a1c9-8e57-459f-9d60-3d9cef1250f3",
   "metadata": {},
   "outputs": [
    {
     "name": "stdout",
     "output_type": "stream",
     "text": [
      " * sqlite:///veri_tabani_ilk.db\n",
      "Done.\n"
     ]
    },
    {
     "data": {
      "text/html": [
       "<table>\n",
       "    <tr>\n",
       "        <th>CustomerID</th>\n",
       "        <th>CustomerName</th>\n",
       "        <th>ContactName</th>\n",
       "        <th>Address</th>\n",
       "        <th>City</th>\n",
       "        <th>PostalCode</th>\n",
       "        <th>Country</th>\n",
       "    </tr>\n",
       "    <tr>\n",
       "        <td>1</td>\n",
       "        <td>Alfreds Futterkiste</td>\n",
       "        <td>Maria Anders</td>\n",
       "        <td>Obere Str. 57</td>\n",
       "        <td>Berlin</td>\n",
       "        <td>12209</td>\n",
       "        <td>Germany</td>\n",
       "    </tr>\n",
       "    <tr>\n",
       "        <td>2</td>\n",
       "        <td>Ana Trujillo Emparedados y helados</td>\n",
       "        <td>Ana Trujillo</td>\n",
       "        <td>Avda. de la Constitución 2222</td>\n",
       "        <td>México D.F.</td>\n",
       "        <td>5021</td>\n",
       "        <td>Mexico</td>\n",
       "    </tr>\n",
       "    <tr>\n",
       "        <td>3</td>\n",
       "        <td>Antonio Moreno Taquería</td>\n",
       "        <td>Antonio Moreno</td>\n",
       "        <td>Mataderos 2312</td>\n",
       "        <td>México D.F.</td>\n",
       "        <td>5023</td>\n",
       "        <td>Mexico</td>\n",
       "    </tr>\n",
       "    <tr>\n",
       "        <td>4</td>\n",
       "        <td>Around the Horn</td>\n",
       "        <td>Thomas Hardy</td>\n",
       "        <td>120 Hanover Sq.</td>\n",
       "        <td>London</td>\n",
       "        <td>WA1 1DP</td>\n",
       "        <td>UK</td>\n",
       "    </tr>\n",
       "    <tr>\n",
       "        <td>5</td>\n",
       "        <td>Berglunds snabbköp</td>\n",
       "        <td>Christina Berglund</td>\n",
       "        <td>Berguvsvägen 8</td>\n",
       "        <td>Luleå</td>\n",
       "        <td>S-958 22</td>\n",
       "        <td>Sweden</td>\n",
       "    </tr>\n",
       "</table>"
      ],
      "text/plain": [
       "[(1, 'Alfreds Futterkiste', 'Maria Anders', 'Obere Str. 57', 'Berlin', '12209', 'Germany'),\n",
       " (2, 'Ana Trujillo Emparedados y helados', 'Ana Trujillo', 'Avda. de la Constitución 2222', 'México D.F.', '5021', 'Mexico'),\n",
       " (3, 'Antonio Moreno Taquería', 'Antonio Moreno', 'Mataderos 2312', 'México D.F.', '5023', 'Mexico'),\n",
       " (4, 'Around the Horn', 'Thomas Hardy', '120 Hanover Sq.', 'London', 'WA1 1DP', 'UK'),\n",
       " (5, 'Berglunds snabbköp', 'Christina Berglund', 'Berguvsvägen 8', 'Luleå', 'S-958 22', 'Sweden')]"
      ]
     },
     "execution_count": 5,
     "metadata": {},
     "output_type": "execute_result"
    }
   ],
   "source": [
    "%%sql\n",
    "SELECT * FROM Customers LIMIT 5;"
   ]
  },
  {
   "cell_type": "markdown",
   "id": "5ddd687b-ed7a-4526-9b77-da5efd95c171",
   "metadata": {},
   "source": [
    "#### 1. Orders tablosundaki müşteri sayısı kaç?"
   ]
  },
  {
   "cell_type": "code",
   "execution_count": 20,
   "id": "ec9ddd12-9672-4372-9c63-c24033d75aee",
   "metadata": {},
   "outputs": [
    {
     "name": "stdout",
     "output_type": "stream",
     "text": [
      " * sqlite:///veri_tabani_ilk.db\n",
      "Done.\n"
     ]
    },
    {
     "data": {
      "text/html": [
       "<table>\n",
       "    <tr>\n",
       "        <th>COUNT(CustomerID)</th>\n",
       "    </tr>\n",
       "    <tr>\n",
       "        <td>196</td>\n",
       "    </tr>\n",
       "</table>"
      ],
      "text/plain": [
       "[(196,)]"
      ]
     },
     "execution_count": 20,
     "metadata": {},
     "output_type": "execute_result"
    }
   ],
   "source": [
    "%%sql\n",
    "SELECT COUNT(CustomerID) FROM Orders;"
   ]
  },
  {
   "cell_type": "markdown",
   "id": "a199725b-dac0-4c20-a345-2441fed214f7",
   "metadata": {},
   "source": [
    "#### 2. Orders tablosundaki EŞSİZ müşteri sayısı kaç?"
   ]
  },
  {
   "cell_type": "code",
   "execution_count": 19,
   "id": "86c2448b-799a-4f4d-84bd-3d1d507bf0d1",
   "metadata": {},
   "outputs": [
    {
     "name": "stdout",
     "output_type": "stream",
     "text": [
      " * sqlite:///veri_tabani_ilk.db\n",
      "Done.\n"
     ]
    },
    {
     "data": {
      "text/html": [
       "<table>\n",
       "    <tr>\n",
       "        <th>COUNT(DISTINCT CustomerID)</th>\n",
       "    </tr>\n",
       "    <tr>\n",
       "        <td>91</td>\n",
       "    </tr>\n",
       "</table>"
      ],
      "text/plain": [
       "[(91,)]"
      ]
     },
     "execution_count": 19,
     "metadata": {},
     "output_type": "execute_result"
    }
   ],
   "source": [
    "%%sql\n",
    "SELECT COUNT(DISTINCT CustomerID) FROM Customers;"
   ]
  },
  {
   "cell_type": "markdown",
   "id": "20217486-f582-4c45-be68-d6988165cb3c",
   "metadata": {},
   "source": [
    "#### 3. Customers tablosunda hangi ülkeden kaçar tane müşteri var?"
   ]
  },
  {
   "cell_type": "code",
   "execution_count": 21,
   "id": "8bf581f8-9778-49df-a126-7b8f1b848809",
   "metadata": {},
   "outputs": [
    {
     "name": "stdout",
     "output_type": "stream",
     "text": [
      " * sqlite:///veri_tabani_ilk.db\n",
      "Done.\n"
     ]
    },
    {
     "data": {
      "text/html": [
       "<table>\n",
       "    <tr>\n",
       "        <th>Country</th>\n",
       "        <th>COUNT(CustomerID)</th>\n",
       "    </tr>\n",
       "    <tr>\n",
       "        <td>USA</td>\n",
       "        <td>13</td>\n",
       "    </tr>\n",
       "    <tr>\n",
       "        <td>Germany</td>\n",
       "        <td>11</td>\n",
       "    </tr>\n",
       "    <tr>\n",
       "        <td>France</td>\n",
       "        <td>11</td>\n",
       "    </tr>\n",
       "    <tr>\n",
       "        <td>Brazil</td>\n",
       "        <td>9</td>\n",
       "    </tr>\n",
       "    <tr>\n",
       "        <td>UK</td>\n",
       "        <td>7</td>\n",
       "    </tr>\n",
       "</table>"
      ],
      "text/plain": [
       "[('USA', 13), ('Germany', 11), ('France', 11), ('Brazil', 9), ('UK', 7)]"
      ]
     },
     "execution_count": 21,
     "metadata": {},
     "output_type": "execute_result"
    }
   ],
   "source": [
    "%%sql\n",
    "SELECT Country, COUNT(CustomerID) FROM Customers GROUP BY Country ORDER BY COUNT(CustomerID) DESC LIMIT 5;"
   ]
  },
  {
   "cell_type": "markdown",
   "id": "edd31435-4593-430a-8743-7b1a7bd9ad41",
   "metadata": {},
   "source": [
    "#### 4. Müşterilerin ülkesi Brazil ya da USA olanları bulunuz."
   ]
  },
  {
   "cell_type": "code",
   "execution_count": 25,
   "id": "6a43200f-f0ae-444d-8cde-534487a4b41b",
   "metadata": {},
   "outputs": [
    {
     "name": "stdout",
     "output_type": "stream",
     "text": [
      " * sqlite:///veri_tabani_ilk.db\n",
      "Done.\n"
     ]
    },
    {
     "data": {
      "text/html": [
       "<table>\n",
       "    <tr>\n",
       "        <th>CustomerID</th>\n",
       "        <th>CustomerName</th>\n",
       "        <th>ContactName</th>\n",
       "        <th>Address</th>\n",
       "        <th>City</th>\n",
       "        <th>PostalCode</th>\n",
       "        <th>Country</th>\n",
       "    </tr>\n",
       "    <tr>\n",
       "        <td>15</td>\n",
       "        <td>Comércio Mineiro</td>\n",
       "        <td>Pedro Afonso</td>\n",
       "        <td>Av. dos Lusíadas, 23</td>\n",
       "        <td>São Paulo</td>\n",
       "        <td>05432-043</td>\n",
       "        <td>Brazil</td>\n",
       "    </tr>\n",
       "    <tr>\n",
       "        <td>21</td>\n",
       "        <td>Familia Arquibaldo</td>\n",
       "        <td>Aria Cruz</td>\n",
       "        <td>Rua Orós, 92</td>\n",
       "        <td>São Paulo</td>\n",
       "        <td>05442-030</td>\n",
       "        <td>Brazil</td>\n",
       "    </tr>\n",
       "    <tr>\n",
       "        <td>31</td>\n",
       "        <td>Gourmet Lanchonetes</td>\n",
       "        <td>André Fonseca</td>\n",
       "        <td>Av. Brasil, 442</td>\n",
       "        <td>Campinas</td>\n",
       "        <td>04876-786</td>\n",
       "        <td>Brazil</td>\n",
       "    </tr>\n",
       "</table>"
      ],
      "text/plain": [
       "[(15, 'Comércio Mineiro', 'Pedro Afonso', 'Av. dos Lusíadas, 23', 'São Paulo', '05432-043', 'Brazil'),\n",
       " (21, 'Familia Arquibaldo', 'Aria Cruz', 'Rua Orós, 92', 'São Paulo', '05442-030', 'Brazil'),\n",
       " (31, 'Gourmet Lanchonetes', 'André Fonseca', 'Av. Brasil, 442', 'Campinas', '04876-786', 'Brazil')]"
      ]
     },
     "execution_count": 30,
     "metadata": {},
     "output_type": "execute_result"
    }
   ],
   "source": [
    "%%sql\n",
    "SELECT * FROM Customers WHERE Country=\"Brazil\" OR Country=\"USA\" LIMIT 3;"
   ]
  },
  {
   "cell_type": "code",
   "execution_count": 32,
   "id": "caaec4fa-bc45-4732-a55e-24f3d09b2127",
   "metadata": {},
   "outputs": [
    {
     "name": "stdout",
     "output_type": "stream",
     "text": [
      " * sqlite:///veri_tabani_ilk.db\n",
      "Done.\n"
     ]
    },
    {
     "data": {
      "text/html": [
       "<table>\n",
       "    <tr>\n",
       "        <th>CustomerID</th>\n",
       "        <th>CustomerName</th>\n",
       "        <th>ContactName</th>\n",
       "        <th>Address</th>\n",
       "        <th>City</th>\n",
       "        <th>PostalCode</th>\n",
       "        <th>Country</th>\n",
       "    </tr>\n",
       "    <tr>\n",
       "        <td>15</td>\n",
       "        <td>Comércio Mineiro</td>\n",
       "        <td>Pedro Afonso</td>\n",
       "        <td>Av. dos Lusíadas, 23</td>\n",
       "        <td>São Paulo</td>\n",
       "        <td>05432-043</td>\n",
       "        <td>Brazil</td>\n",
       "    </tr>\n",
       "    <tr>\n",
       "        <td>21</td>\n",
       "        <td>Familia Arquibaldo</td>\n",
       "        <td>Aria Cruz</td>\n",
       "        <td>Rua Orós, 92</td>\n",
       "        <td>São Paulo</td>\n",
       "        <td>05442-030</td>\n",
       "        <td>Brazil</td>\n",
       "    </tr>\n",
       "    <tr>\n",
       "        <td>31</td>\n",
       "        <td>Gourmet Lanchonetes</td>\n",
       "        <td>André Fonseca</td>\n",
       "        <td>Av. Brasil, 442</td>\n",
       "        <td>Campinas</td>\n",
       "        <td>04876-786</td>\n",
       "        <td>Brazil</td>\n",
       "    </tr>\n",
       "</table>"
      ],
      "text/plain": [
       "[(15, 'Comércio Mineiro', 'Pedro Afonso', 'Av. dos Lusíadas, 23', 'São Paulo', '05432-043', 'Brazil'),\n",
       " (21, 'Familia Arquibaldo', 'Aria Cruz', 'Rua Orós, 92', 'São Paulo', '05442-030', 'Brazil'),\n",
       " (31, 'Gourmet Lanchonetes', 'André Fonseca', 'Av. Brasil, 442', 'Campinas', '04876-786', 'Brazil')]"
      ]
     },
     "execution_count": 32,
     "metadata": {},
     "output_type": "execute_result"
    }
   ],
   "source": [
    "%%sql\n",
    "SELECT * FROM Customers WHERE Country IN ('Brazil','USA') LIMIT 3;"
   ]
  },
  {
   "cell_type": "markdown",
   "id": "95323384-7a07-4e51-ae42-2fe67fb40d1a",
   "metadata": {},
   "source": [
    "#### 5. Önce ülkeye sonra şehre göre group by işlemi yapıp bu kırılımda müşteri sayısını bulunuz."
   ]
  },
  {
   "cell_type": "code",
   "execution_count": 41,
   "id": "5a2be323-f204-44ba-8d39-6a7ab5f15760",
   "metadata": {},
   "outputs": [
    {
     "name": "stdout",
     "output_type": "stream",
     "text": [
      " * sqlite:///veri_tabani_ilk.db\n",
      "Done.\n"
     ]
    },
    {
     "data": {
      "text/html": [
       "<table>\n",
       "    <tr>\n",
       "        <th>Country</th>\n",
       "        <th>City</th>\n",
       "        <th>COUNT(CustomerID)</th>\n",
       "    </tr>\n",
       "    <tr>\n",
       "        <td>Argentina</td>\n",
       "        <td>Buenos Aires</td>\n",
       "        <td>3</td>\n",
       "    </tr>\n",
       "    <tr>\n",
       "        <td>Austria</td>\n",
       "        <td>Graz</td>\n",
       "        <td>1</td>\n",
       "    </tr>\n",
       "    <tr>\n",
       "        <td>Austria</td>\n",
       "        <td>Salzburg</td>\n",
       "        <td>1</td>\n",
       "    </tr>\n",
       "</table>"
      ],
      "text/plain": [
       "[('Argentina', 'Buenos Aires', 3),\n",
       " ('Austria', 'Graz', 1),\n",
       " ('Austria', 'Salzburg', 1)]"
      ]
     },
     "execution_count": 41,
     "metadata": {},
     "output_type": "execute_result"
    }
   ],
   "source": [
    "%%sql\n",
    "SELECT Country, City, COUNT(CustomerID) FROM Customers GROUP BY Country, City LIMIT 3;"
   ]
  },
  {
   "cell_type": "markdown",
   "id": "8b7fe99b-0249-4350-bdbf-b5b4de009b64",
   "metadata": {},
   "source": [
    "#### 6. Müşterilerin adreslerinin herhangi bir yerinde \"da\" ifadesi geçen tüm adresleri bulunuz."
   ]
  },
  {
   "cell_type": "code",
   "execution_count": 43,
   "id": "8d9006ea-6011-4874-90a0-24c9a425ef84",
   "metadata": {},
   "outputs": [
    {
     "name": "stdout",
     "output_type": "stream",
     "text": [
      " * sqlite:///veri_tabani_ilk.db\n",
      "Done.\n"
     ]
    },
    {
     "data": {
      "text/html": [
       "<table>\n",
       "    <tr>\n",
       "        <th>Address</th>\n",
       "    </tr>\n",
       "    <tr>\n",
       "        <td>Avda. de la Constitución 2222</td>\n",
       "    </tr>\n",
       "    <tr>\n",
       "        <td>Sierras de Granada 9993</td>\n",
       "    </tr>\n",
       "    <tr>\n",
       "        <td>Av. dos Lusíadas, 23</td>\n",
       "    </tr>\n",
       "</table>"
      ],
      "text/plain": [
       "[('Avda. de la Constitución 2222',),\n",
       " ('Sierras de Granada 9993',),\n",
       " ('Av. dos Lusíadas, 23',)]"
      ]
     },
     "execution_count": 43,
     "metadata": {},
     "output_type": "execute_result"
    }
   ],
   "source": [
    "%%sql\n",
    "SELECT Address FROM Customers WHERE Address LIKE '%da%' LIMIT 3;"
   ]
  },
  {
   "cell_type": "markdown",
   "id": "c51af1fe-a143-4e96-83d5-2bdd612e139a",
   "metadata": {
    "tags": []
   },
   "source": [
    "#### 7. Germany-Berlin'de yaşayan müşteri/müşterilerin isimleri nelerdir?"
   ]
  },
  {
   "cell_type": "code",
   "execution_count": 44,
   "id": "beb5f7ac-53a9-486c-9653-38d2f8357e52",
   "metadata": {},
   "outputs": [
    {
     "name": "stdout",
     "output_type": "stream",
     "text": [
      " * sqlite:///veri_tabani_ilk.db\n",
      "Done.\n"
     ]
    },
    {
     "data": {
      "text/html": [
       "<table>\n",
       "    <tr>\n",
       "        <th>CustomerName</th>\n",
       "    </tr>\n",
       "    <tr>\n",
       "        <td>Alfreds Futterkiste</td>\n",
       "    </tr>\n",
       "</table>"
      ],
      "text/plain": [
       "[('Alfreds Futterkiste',)]"
      ]
     },
     "execution_count": 44,
     "metadata": {},
     "output_type": "execute_result"
    }
   ],
   "source": [
    "%%sql\n",
    "SELECT CustomerName FROM Customers WHERE Country='Germany' AND City='Berlin';"
   ]
  },
  {
   "cell_type": "markdown",
   "id": "c60c2bb5-2a29-4f5d-b9cb-b8bbfbfa6b1e",
   "metadata": {
    "tags": []
   },
   "source": [
    "#### 8. Kanada'da yaşayıp isimlerinde \"in\" ifadesi geçen müşteri/müşterileri bulunuz."
   ]
  },
  {
   "cell_type": "code",
   "execution_count": 51,
   "id": "9180ebfb-7211-461e-b212-45fb847e8377",
   "metadata": {},
   "outputs": [
    {
     "name": "stdout",
     "output_type": "stream",
     "text": [
      " * sqlite:///veri_tabani_ilk.db\n",
      "Done.\n"
     ]
    },
    {
     "data": {
      "text/html": [
       "<table>\n",
       "    <tr>\n",
       "        <th>CustomerName</th>\n",
       "    </tr>\n",
       "    <tr>\n",
       "        <td>Laughing Bacchus Wine Cellars</td>\n",
       "    </tr>\n",
       "</table>"
      ],
      "text/plain": [
       "[('Laughing Bacchus Wine Cellars',)]"
      ]
     },
     "execution_count": 51,
     "metadata": {},
     "output_type": "execute_result"
    }
   ],
   "source": [
    "%%sql\n",
    "SELECT CustomerName FROM Customers WHERE Country='Canada' AND CustomerName LIKE '%in%';"
   ]
  },
  {
   "cell_type": "markdown",
   "id": "5c9e998f-7b2a-4525-99f9-10d2755a8843",
   "metadata": {
    "tags": []
   },
   "source": [
    "#### 9. Fiyatı 40 ila 90 TL arasında olan ürünlerin isimleri ve fiyatları nelerdir?"
   ]
  },
  {
   "cell_type": "code",
   "execution_count": 70,
   "id": "040ae06a-599b-4eb0-9e11-d00f6778973d",
   "metadata": {},
   "outputs": [
    {
     "name": "stdout",
     "output_type": "stream",
     "text": [
      " * sqlite:///veri_tabani_ilk.db\n",
      "Done.\n"
     ]
    },
    {
     "data": {
      "text/html": [
       "<table>\n",
       "    <tr>\n",
       "        <th>ProductName</th>\n",
       "        <th>Price</th>\n",
       "    </tr>\n",
       "    <tr>\n",
       "        <td>Northwoods Cranberry Sauce</td>\n",
       "        <td>40</td>\n",
       "    </tr>\n",
       "    <tr>\n",
       "        <td>Genen Shouyu</td>\n",
       "        <td>43</td>\n",
       "    </tr>\n",
       "    <tr>\n",
       "        <td>Carnarvon Tigers</td>\n",
       "        <td>62</td>\n",
       "    </tr>\n",
       "</table>"
      ],
      "text/plain": [
       "[('Northwoods Cranberry Sauce', 40),\n",
       " ('Genen Shouyu', 43),\n",
       " ('Carnarvon Tigers', 62)]"
      ]
     },
     "execution_count": 70,
     "metadata": {},
     "output_type": "execute_result"
    }
   ],
   "source": [
    "%%sql\n",
    "SELECT ProductName, Price FROM Products WHERE Price>=40 AND Price<=90 LIMIT 3;"
   ]
  },
  {
   "cell_type": "code",
   "execution_count": 61,
   "id": "9bb84ac4-f021-443c-96ef-95d4c4e21477",
   "metadata": {},
   "outputs": [
    {
     "name": "stdout",
     "output_type": "stream",
     "text": [
      " * sqlite:///veri_tabani_ilk.db\n",
      "Done.\n"
     ]
    },
    {
     "data": {
      "text/html": [
       "<table>\n",
       "    <tr>\n",
       "        <th>ProductName</th>\n",
       "        <th>Price</th>\n",
       "    </tr>\n",
       "    <tr>\n",
       "        <td>Northwoods Cranberry Sauce</td>\n",
       "        <td>40</td>\n",
       "    </tr>\n",
       "    <tr>\n",
       "        <td>Genen Shouyu</td>\n",
       "        <td>43</td>\n",
       "    </tr>\n",
       "    <tr>\n",
       "        <td>Carnarvon Tigers</td>\n",
       "        <td>62</td>\n",
       "    </tr>\n",
       "</table>"
      ],
      "text/plain": [
       "[('Northwoods Cranberry Sauce', 40),\n",
       " ('Genen Shouyu', 43),\n",
       " ('Carnarvon Tigers', 62)]"
      ]
     },
     "execution_count": 61,
     "metadata": {},
     "output_type": "execute_result"
    }
   ],
   "source": [
    "%%sql\n",
    "SELECT ProductName, Price FROM Products WHERE Price BETWEEN 40 AND 90 LIMIT 3;"
   ]
  },
  {
   "cell_type": "markdown",
   "id": "daaefe9b-6e8f-48c0-af7f-939cbe29b6dc",
   "metadata": {
    "tags": []
   },
   "source": [
    "#### 10. Fiyatı 30 TL'den büyük olan ürünlerin isimlerini, fiyatlarını ve fiyatlarının karesini bulunuz ve tüm değişkenlerin isimlendirmelerini aşağıdaki şekilde yapınız.\n",
    "* urun_ismi, urun_fiyati, urun_fiyati_karesi"
   ]
  },
  {
   "cell_type": "code",
   "execution_count": 73,
   "id": "57bf68d5-6de1-460d-97ec-07e1f6f417df",
   "metadata": {},
   "outputs": [
    {
     "name": "stdout",
     "output_type": "stream",
     "text": [
      " * sqlite:///veri_tabani_ilk.db\n",
      "Done.\n"
     ]
    },
    {
     "data": {
      "text/html": [
       "<table>\n",
       "    <tr>\n",
       "        <th>urun_ismi</th>\n",
       "        <th>urun_fiyati</th>\n",
       "        <th>urun_fiyati_karesi</th>\n",
       "    </tr>\n",
       "    <tr>\n",
       "        <td>Uncle Bob&#x27;s Organic Dried Pears</td>\n",
       "        <td>30</td>\n",
       "        <td>900</td>\n",
       "    </tr>\n",
       "    <tr>\n",
       "        <td>Northwoods Cranberry Sauce</td>\n",
       "        <td>40</td>\n",
       "        <td>1600</td>\n",
       "    </tr>\n",
       "    <tr>\n",
       "        <td>Mishi Kobe Niku</td>\n",
       "        <td>97</td>\n",
       "        <td>9409</td>\n",
       "    </tr>\n",
       "</table>"
      ],
      "text/plain": [
       "[(\"Uncle Bob's Organic Dried Pears\", 30, 900),\n",
       " ('Northwoods Cranberry Sauce', 40, 1600),\n",
       " ('Mishi Kobe Niku', 97, 9409)]"
      ]
     },
     "execution_count": 73,
     "metadata": {},
     "output_type": "execute_result"
    }
   ],
   "source": [
    "%%sql\n",
    "SELECT ProductName AS urun_ismi, Price AS urun_fiyati, Price*Price AS urun_fiyati_karesi FROM Products WHERE Price>=30 LIMIT 3;"
   ]
  },
  {
   "cell_type": "markdown",
   "id": "cc481012-e11d-4754-a1ee-33e504e08797",
   "metadata": {
    "tags": []
   },
   "source": [
    "#### 11. Products tablosundaki category_id'lerin yani kategorilerin isimleri nelerdir?"
   ]
  },
  {
   "cell_type": "code",
   "execution_count": 82,
   "id": "cd5b96c6-c872-48d4-a4fe-b2fbdfea635d",
   "metadata": {},
   "outputs": [
    {
     "name": "stdout",
     "output_type": "stream",
     "text": [
      " * sqlite:///veri_tabani_ilk.db\n",
      "Done.\n"
     ]
    },
    {
     "data": {
      "text/html": [
       "<table>\n",
       "    <tr>\n",
       "        <th>CategoryName</th>\n",
       "        <th>CategoryID</th>\n",
       "    </tr>\n",
       "    <tr>\n",
       "        <td>Beverages</td>\n",
       "        <td>1</td>\n",
       "    </tr>\n",
       "    <tr>\n",
       "        <td>Beverages</td>\n",
       "        <td>1</td>\n",
       "    </tr>\n",
       "    <tr>\n",
       "        <td>Condiments</td>\n",
       "        <td>2</td>\n",
       "    </tr>\n",
       "    <tr>\n",
       "        <td>Condiments</td>\n",
       "        <td>2</td>\n",
       "    </tr>\n",
       "    <tr>\n",
       "        <td>Condiments</td>\n",
       "        <td>2</td>\n",
       "    </tr>\n",
       "</table>"
      ],
      "text/plain": [
       "[('Beverages', 1),\n",
       " ('Beverages', 1),\n",
       " ('Condiments', 2),\n",
       " ('Condiments', 2),\n",
       " ('Condiments', 2)]"
      ]
     },
     "execution_count": 82,
     "metadata": {},
     "output_type": "execute_result"
    }
   ],
   "source": [
    "%%sql\n",
    "SELECT Categories.CategoryName, Products.CategoryID FROM Products LEFT OUTER JOIN Categories ON Products.CategoryID = Categories.CategoryID LIMIT 5;"
   ]
  },
  {
   "cell_type": "markdown",
   "id": "24614675-514b-48df-bf43-f73a4d298858",
   "metadata": {
    "tags": []
   },
   "source": [
    "#### 12. beverages ürün kategorisindeki ürünlerin fiyat ortalaması nedir?"
   ]
  },
  {
   "cell_type": "code",
   "execution_count": 86,
   "id": "80e696ae-2efa-44cb-8ba9-ba618964b391",
   "metadata": {},
   "outputs": [
    {
     "name": "stdout",
     "output_type": "stream",
     "text": [
      " * sqlite:///veri_tabani_ilk.db\n",
      "Done.\n"
     ]
    },
    {
     "data": {
      "text/html": [
       "<table>\n",
       "    <tr>\n",
       "        <th>AVG(Price)</th>\n",
       "    </tr>\n",
       "    <tr>\n",
       "        <td>42.75</td>\n",
       "    </tr>\n",
       "</table>"
      ],
      "text/plain": [
       "[(42.75,)]"
      ]
     },
     "execution_count": 86,
     "metadata": {},
     "output_type": "execute_result"
    }
   ],
   "source": [
    "%%sql\n",
    "SELECT AVG(Price) FROM Products LEFT OUTER JOIN Categories ON Products.CategoryID = Categories.CategoryID WHERE CategoryName=\"Beverages\";"
   ]
  },
  {
   "cell_type": "code",
   "execution_count": 87,
   "id": "405836c0-af07-4ebc-acc7-91be79aced5d",
   "metadata": {},
   "outputs": [
    {
     "name": "stdout",
     "output_type": "stream",
     "text": [
      " * sqlite:///veri_tabani_ilk.db\n",
      "Done.\n"
     ]
    },
    {
     "data": {
      "text/html": [
       "<table>\n",
       "    <tr>\n",
       "        <th>AVG(Price)</th>\n",
       "    </tr>\n",
       "    <tr>\n",
       "        <td>42.75</td>\n",
       "    </tr>\n",
       "</table>"
      ],
      "text/plain": [
       "[(42.75,)]"
      ]
     },
     "execution_count": 87,
     "metadata": {},
     "output_type": "execute_result"
    }
   ],
   "source": [
    "%%sql\n",
    "SELECT AVG(Price) FROM Products WHERE CategoryID=1;"
   ]
  },
  {
   "cell_type": "markdown",
   "id": "d9c31cda-023a-426f-bea1-f4e973acde6d",
   "metadata": {
    "tags": []
   },
   "source": [
    "#### 13. USA'da yaşayan müşterilerin kazandırdığı toplam kazancı bulunuz."
   ]
  },
  {
   "cell_type": "code",
   "execution_count": 97,
   "id": "e5d96fa3-cd1c-4eba-b4a1-12cf549c8bc0",
   "metadata": {},
   "outputs": [
    {
     "name": "stdout",
     "output_type": "stream",
     "text": [
      " * sqlite:///veri_tabani_ilk.db\n",
      "Done.\n"
     ]
    },
    {
     "data": {
      "text/html": [
       "<table>\n",
       "    <tr>\n",
       "        <th>name</th>\n",
       "    </tr>\n",
       "    <tr>\n",
       "        <td>Products</td>\n",
       "    </tr>\n",
       "    <tr>\n",
       "        <td>Customers</td>\n",
       "    </tr>\n",
       "    <tr>\n",
       "        <td>Categories</td>\n",
       "    </tr>\n",
       "    <tr>\n",
       "        <td>Employees</td>\n",
       "    </tr>\n",
       "    <tr>\n",
       "        <td>Orders</td>\n",
       "    </tr>\n",
       "    <tr>\n",
       "        <td>Shippers</td>\n",
       "    </tr>\n",
       "    <tr>\n",
       "        <td>Suppliers</td>\n",
       "    </tr>\n",
       "    <tr>\n",
       "        <td>OrderDetails</td>\n",
       "    </tr>\n",
       "    <tr>\n",
       "        <td>new_table</td>\n",
       "    </tr>\n",
       "</table>"
      ],
      "text/plain": [
       "[('Products',),\n",
       " ('Customers',),\n",
       " ('Categories',),\n",
       " ('Employees',),\n",
       " ('Orders',),\n",
       " ('Shippers',),\n",
       " ('Suppliers',),\n",
       " ('OrderDetails',),\n",
       " ('new_table',)]"
      ]
     },
     "execution_count": 97,
     "metadata": {},
     "output_type": "execute_result"
    }
   ],
   "source": [
    "%%sql\n",
    "SELECT name FROM sqlite_master WHERE type='table';"
   ]
  },
  {
   "cell_type": "code",
   "execution_count": 102,
   "id": "c4a9702d-aa85-41d9-ae0c-d8f8c0e00c1a",
   "metadata": {},
   "outputs": [
    {
     "name": "stdout",
     "output_type": "stream",
     "text": [
      " * sqlite:///veri_tabani_ilk.db\n",
      "Done.\n"
     ]
    },
    {
     "data": {
      "text/html": [
       "<table>\n",
       "    <tr>\n",
       "        <th>ProductID</th>\n",
       "        <th>ProductName</th>\n",
       "        <th>SupplierID</th>\n",
       "        <th>CategoryID</th>\n",
       "        <th>Unit</th>\n",
       "        <th>Price</th>\n",
       "    </tr>\n",
       "    <tr>\n",
       "        <td>1</td>\n",
       "        <td>Chais</td>\n",
       "        <td>1</td>\n",
       "        <td>1</td>\n",
       "        <td>10 boxes x 20 bags</td>\n",
       "        <td>18</td>\n",
       "    </tr>\n",
       "</table>"
      ],
      "text/plain": [
       "[(1, 'Chais', 1, 1, '10 boxes x 20 bags', 18)]"
      ]
     },
     "execution_count": 102,
     "metadata": {},
     "output_type": "execute_result"
    }
   ],
   "source": [
    "%%sql\n",
    "SELECT * FROM Products LIMIT 1;"
   ]
  },
  {
   "cell_type": "code",
   "execution_count": 103,
   "id": "9f5682f5-4ca7-49d9-b369-b12ed684f920",
   "metadata": {},
   "outputs": [
    {
     "name": "stdout",
     "output_type": "stream",
     "text": [
      " * sqlite:///veri_tabani_ilk.db\n",
      "Done.\n"
     ]
    },
    {
     "data": {
      "text/html": [
       "<table>\n",
       "    <tr>\n",
       "        <th>OrderID</th>\n",
       "        <th>CustomerID</th>\n",
       "        <th>EmployeeID</th>\n",
       "        <th>OrderDate</th>\n",
       "        <th>ShipperID</th>\n",
       "    </tr>\n",
       "    <tr>\n",
       "        <td>10248</td>\n",
       "        <td>90</td>\n",
       "        <td>5</td>\n",
       "        <td>4.07.1996</td>\n",
       "        <td>3</td>\n",
       "    </tr>\n",
       "</table>"
      ],
      "text/plain": [
       "[(10248, 90, 5, '4.07.1996', 3)]"
      ]
     },
     "execution_count": 103,
     "metadata": {},
     "output_type": "execute_result"
    }
   ],
   "source": [
    "%%sql\n",
    "SELECT * FROM Orders LIMIT 1;"
   ]
  },
  {
   "cell_type": "code",
   "execution_count": 104,
   "id": "ed884bcd-7ea9-42e9-b54b-5f91d96e3461",
   "metadata": {},
   "outputs": [
    {
     "name": "stdout",
     "output_type": "stream",
     "text": [
      " * sqlite:///veri_tabani_ilk.db\n",
      "Done.\n"
     ]
    },
    {
     "data": {
      "text/html": [
       "<table>\n",
       "    <tr>\n",
       "        <th>OrderDetailID</th>\n",
       "        <th>OrderID</th>\n",
       "        <th>ProductID</th>\n",
       "        <th>Quantity</th>\n",
       "    </tr>\n",
       "    <tr>\n",
       "        <td>1</td>\n",
       "        <td>10248</td>\n",
       "        <td>11</td>\n",
       "        <td>12</td>\n",
       "    </tr>\n",
       "</table>"
      ],
      "text/plain": [
       "[(1, 10248, 11, 12)]"
      ]
     },
     "execution_count": 104,
     "metadata": {},
     "output_type": "execute_result"
    }
   ],
   "source": [
    "%%sql\n",
    "SELECT * FROM OrderDetails LIMIT 1;"
   ]
  },
  {
   "cell_type": "code",
   "execution_count": 57,
   "id": "8b8b1620-6cfe-48c9-a556-776558b53036",
   "metadata": {},
   "outputs": [
    {
     "name": "stdout",
     "output_type": "stream",
     "text": [
      " * sqlite:///veri_tabani_ilk.db\n",
      "Done.\n"
     ]
    },
    {
     "data": {
      "text/html": [
       "<table>\n",
       "    <tr>\n",
       "        <th>CustomerID</th>\n",
       "        <th>CustomerName</th>\n",
       "        <th>ContactName</th>\n",
       "        <th>Address</th>\n",
       "        <th>City</th>\n",
       "        <th>PostalCode</th>\n",
       "        <th>Country</th>\n",
       "    </tr>\n",
       "    <tr>\n",
       "        <td>1</td>\n",
       "        <td>Alfreds Futterkiste</td>\n",
       "        <td>Maria Anders</td>\n",
       "        <td>Obere Str. 57</td>\n",
       "        <td>Berlin</td>\n",
       "        <td>12209</td>\n",
       "        <td>Germany</td>\n",
       "    </tr>\n",
       "</table>"
      ],
      "text/plain": [
       "[(1, 'Alfreds Futterkiste', 'Maria Anders', 'Obere Str. 57', 'Berlin', '12209', 'Germany')]"
      ]
     },
     "execution_count": 57,
     "metadata": {},
     "output_type": "execute_result"
    }
   ],
   "source": [
    "%%sql\n",
    "SELECT * FROM Customers LIMIT 1;"
   ]
  },
  {
   "cell_type": "code",
   "execution_count": 7,
   "id": "5a4f7dc6-9127-4277-966c-f640d7d87dc4",
   "metadata": {},
   "outputs": [
    {
     "name": "stdout",
     "output_type": "stream",
     "text": [
      " * sqlite:///veri_tabani_ilk.db\n",
      "Done.\n"
     ]
    },
    {
     "data": {
      "text/html": [
       "<table>\n",
       "    <tr>\n",
       "        <th>OrderDetailID</th>\n",
       "        <th>OrderID</th>\n",
       "        <th>ProductID</th>\n",
       "        <th>Quantity</th>\n",
       "    </tr>\n",
       "    <tr>\n",
       "        <td>1</td>\n",
       "        <td>10248</td>\n",
       "        <td>11</td>\n",
       "        <td>12</td>\n",
       "    </tr>\n",
       "</table>"
      ],
      "text/plain": [
       "[(1, 10248, 11, 12)]"
      ]
     },
     "execution_count": 7,
     "metadata": {},
     "output_type": "execute_result"
    }
   ],
   "source": [
    "%%sql\n",
    "SELECT * FROM OrderDetails LIMIT 1;"
   ]
  },
  {
   "cell_type": "code",
   "execution_count": 64,
   "id": "f80a2e11-ee23-4f36-8590-3ec04677a985",
   "metadata": {},
   "outputs": [
    {
     "name": "stdout",
     "output_type": "stream",
     "text": [
      " * sqlite:///veri_tabani_ilk.db\n",
      "Done.\n"
     ]
    },
    {
     "data": {
      "text/html": [
       "<table>\n",
       "    <tr>\n",
       "        <th>City</th>\n",
       "        <th>Price</th>\n",
       "        <th>Quantity</th>\n",
       "        <th>TotalSales</th>\n",
       "    </tr>\n",
       "    <tr>\n",
       "        <td>Eugene</td>\n",
       "        <td>None</td>\n",
       "        <td>None</td>\n",
       "        <td>None</td>\n",
       "    </tr>\n",
       "    <tr>\n",
       "        <td>Elgin</td>\n",
       "        <td>6</td>\n",
       "        <td>10</td>\n",
       "        <td>60</td>\n",
       "    </tr>\n",
       "    <tr>\n",
       "        <td>Elgin</td>\n",
       "        <td>16</td>\n",
       "        <td>10</td>\n",
       "        <td>160</td>\n",
       "    </tr>\n",
       "    <tr>\n",
       "        <td>Elgin</td>\n",
       "        <td>23</td>\n",
       "        <td>15</td>\n",
       "        <td>345</td>\n",
       "    </tr>\n",
       "    <tr>\n",
       "        <td>Elgin</td>\n",
       "        <td>39</td>\n",
       "        <td>2</td>\n",
       "        <td>78</td>\n",
       "    </tr>\n",
       "</table>"
      ],
      "text/plain": [
       "[('Eugene', None, None, None),\n",
       " ('Elgin', 6, 10, 60),\n",
       " ('Elgin', 16, 10, 160),\n",
       " ('Elgin', 23, 15, 345),\n",
       " ('Elgin', 39, 2, 78)]"
      ]
     },
     "execution_count": 64,
     "metadata": {},
     "output_type": "execute_result"
    }
   ],
   "source": [
    "%%sql\n",
    "SELECT City, Price, Quantity, Price * Quantity AS TotalSales FROM Customers LEFT OUTER JOIN (SELECT * FROM Products LEFT OUTER JOIN (SELECT * FROM Orders LEFT OUTER JOIN OrderDetails ON Orders.OrderID = OrderDetails.OrderID) AS Twin ON Products.ProductID = Twin.ProductID) AS Alll ON Customers.CustomerID = Alll.CustomerID WHERE Country = 'USA' LIMIT 5;"
   ]
  },
  {
   "cell_type": "code",
   "execution_count": 65,
   "id": "7abab620-316b-4ed3-814b-05539467702a",
   "metadata": {},
   "outputs": [
    {
     "name": "stdout",
     "output_type": "stream",
     "text": [
      " * sqlite:///veri_tabani_ilk.db\n",
      "Done.\n"
     ]
    },
    {
     "data": {
      "text/html": [
       "<table>\n",
       "    <tr>\n",
       "        <th>TotalSales</th>\n",
       "    </tr>\n",
       "    <tr>\n",
       "        <td>108537</td>\n",
       "    </tr>\n",
       "</table>"
      ],
      "text/plain": [
       "[(108537,)]"
      ]
     },
     "execution_count": 65,
     "metadata": {},
     "output_type": "execute_result"
    }
   ],
   "source": [
    "%%sql\n",
    "SELECT SUM(Price * Quantity) AS TotalSales FROM Customers LEFT OUTER JOIN (SELECT * FROM Products LEFT OUTER JOIN (SELECT * FROM Orders LEFT OUTER JOIN OrderDetails ON Orders.OrderID = OrderDetails.OrderID) AS Twin ON Products.ProductID = Twin.ProductID) AS Alll ON Customers.CustomerID = Alll.CustomerID WHERE Country = 'USA';"
   ]
  },
  {
   "cell_type": "markdown",
   "id": "601b2e51-df72-48e3-a630-8e156457c3b0",
   "metadata": {
    "tags": []
   },
   "source": [
    "#### 14. products tablosundaki categoryID'lerin isimlerini bulunuz ve sonrasında kategori başına ortalama ürün fiyatını gösteriniz."
   ]
  },
  {
   "cell_type": "code",
   "execution_count": 31,
   "id": "4589a7b1-eadf-4d0f-b28c-c32d34570a28",
   "metadata": {},
   "outputs": [
    {
     "name": "stdout",
     "output_type": "stream",
     "text": [
      " * sqlite:///veri_tabani_ilk.db\n",
      "Done.\n"
     ]
    },
    {
     "data": {
      "text/html": [
       "<table>\n",
       "    <tr>\n",
       "        <th>CategoryName</th>\n",
       "        <th>AVG(Price)</th>\n",
       "    </tr>\n",
       "    <tr>\n",
       "        <td>Beverages</td>\n",
       "        <td>42.75</td>\n",
       "    </tr>\n",
       "    <tr>\n",
       "        <td>Condiments</td>\n",
       "        <td>28.25</td>\n",
       "    </tr>\n",
       "    <tr>\n",
       "        <td>Confections</td>\n",
       "        <td>33.76923076923077</td>\n",
       "    </tr>\n",
       "    <tr>\n",
       "        <td>Dairy Products</td>\n",
       "        <td>74.9</td>\n",
       "    </tr>\n",
       "    <tr>\n",
       "        <td>Grains/Cereals</td>\n",
       "        <td>23.571428571428573</td>\n",
       "    </tr>\n",
       "    <tr>\n",
       "        <td>Meat/Poultry</td>\n",
       "        <td>55.166666666666664</td>\n",
       "    </tr>\n",
       "    <tr>\n",
       "        <td>Produce</td>\n",
       "        <td>32.2</td>\n",
       "    </tr>\n",
       "    <tr>\n",
       "        <td>Seafood</td>\n",
       "        <td>26.5</td>\n",
       "    </tr>\n",
       "</table>"
      ],
      "text/plain": [
       "[('Beverages', 42.75),\n",
       " ('Condiments', 28.25),\n",
       " ('Confections', 33.76923076923077),\n",
       " ('Dairy Products', 74.9),\n",
       " ('Grains/Cereals', 23.571428571428573),\n",
       " ('Meat/Poultry', 55.166666666666664),\n",
       " ('Produce', 32.2),\n",
       " ('Seafood', 26.5)]"
      ]
     },
     "execution_count": 31,
     "metadata": {},
     "output_type": "execute_result"
    }
   ],
   "source": [
    "%%sql\n",
    "SELECT CategoryName, AVG(Price) FROM Products LEFT OUTER JOIN Categories ON Products.CategoryID = Categories.CategoryID GROUP BY CategoryName;"
   ]
  },
  {
   "cell_type": "markdown",
   "id": "458c862a-6f36-4828-8b7b-e84daa5b2eae",
   "metadata": {
    "tags": []
   },
   "source": [
    "#### 15. Çalışanları isimleri ile birlikte yaptıkları toplam satışlara göre sıralayınız."
   ]
  },
  {
   "cell_type": "code",
   "execution_count": 52,
   "id": "681e78ea-e61a-41ac-b241-859172477b79",
   "metadata": {},
   "outputs": [
    {
     "name": "stdout",
     "output_type": "stream",
     "text": [
      " * sqlite:///veri_tabani_ilk.db\n",
      "Done.\n"
     ]
    },
    {
     "data": {
      "text/html": [
       "<table>\n",
       "    <tr>\n",
       "        <th>FullName</th>\n",
       "        <th>TotalSales</th>\n",
       "    </tr>\n",
       "    <tr>\n",
       "        <td>Peacock Margaret</td>\n",
       "        <td>156706</td>\n",
       "    </tr>\n",
       "    <tr>\n",
       "        <td>Davolio Nancy</td>\n",
       "        <td>106896</td>\n",
       "    </tr>\n",
       "    <tr>\n",
       "        <td>Suyama Michael</td>\n",
       "        <td>88934</td>\n",
       "    </tr>\n",
       "    <tr>\n",
       "        <td>Leverling Janet</td>\n",
       "        <td>68204</td>\n",
       "    </tr>\n",
       "    <tr>\n",
       "        <td>Buchanan Steven</td>\n",
       "        <td>60293</td>\n",
       "    </tr>\n",
       "    <tr>\n",
       "        <td>King Robert</td>\n",
       "        <td>54416</td>\n",
       "    </tr>\n",
       "    <tr>\n",
       "        <td>Callahan Laura</td>\n",
       "        <td>43225</td>\n",
       "    </tr>\n",
       "    <tr>\n",
       "        <td>Fuller Andrew</td>\n",
       "        <td>41294</td>\n",
       "    </tr>\n",
       "    <tr>\n",
       "        <td>Dodsworth Anne</td>\n",
       "        <td>17656</td>\n",
       "    </tr>\n",
       "</table>"
      ],
      "text/plain": [
       "[('Peacock Margaret', 156706),\n",
       " ('Davolio Nancy', 106896),\n",
       " ('Suyama Michael', 88934),\n",
       " ('Leverling Janet', 68204),\n",
       " ('Buchanan Steven', 60293),\n",
       " ('King Robert', 54416),\n",
       " ('Callahan Laura', 43225),\n",
       " ('Fuller Andrew', 41294),\n",
       " ('Dodsworth Anne', 17656)]"
      ]
     },
     "execution_count": 52,
     "metadata": {},
     "output_type": "execute_result"
    }
   ],
   "source": [
    "%%sql\n",
    "SELECT LastName || ' ' || FirstName AS FullName, SUM(Quantity * Price) AS TotalSales FROM Products LEFT OUTER JOIN (SELECT * FROM OrderDetails LEFT OUTER JOIN (SELECT * FROM Employees LEFT OUTER JOIN Orders ON Employees.EmployeeID = Orders.EmployeeID) AS Twin ON OrderDetails.OrderID = Twin.OrderID) AS TripleTable ON Products.ProductID = TripleTable.ProductID GROUP BY FullName ORDER BY TotalSales DESC;"
   ]
  },
  {
   "cell_type": "code",
   "execution_count": 33,
   "id": "d7085e09-fd03-4753-b218-94798f75e297",
   "metadata": {},
   "outputs": [
    {
     "name": "stdout",
     "output_type": "stream",
     "text": [
      " * sqlite:///veri_tabani_ilk.db\n",
      "Done.\n"
     ]
    },
    {
     "data": {
      "text/html": [
       "<table>\n",
       "    <tr>\n",
       "        <th>EmployeeID</th>\n",
       "        <th>LastName</th>\n",
       "        <th>FirstName</th>\n",
       "        <th>BirthDate</th>\n",
       "        <th>Photo</th>\n",
       "        <th>Notes</th>\n",
       "        <th>OrderID</th>\n",
       "        <th>CustomerID</th>\n",
       "        <th>EmployeeID_1</th>\n",
       "        <th>OrderDate</th>\n",
       "        <th>ShipperID</th>\n",
       "    </tr>\n",
       "    <tr>\n",
       "        <td>1</td>\n",
       "        <td>Davolio</td>\n",
       "        <td>Nancy</td>\n",
       "        <td>8.12.1968</td>\n",
       "        <td>EmpID1.pic</td>\n",
       "        <td>Education includes a BA in psychology from Colorado State University. She also completed (The Art of the Cold Call). Nancy is a member of &#x27;Toastmasters International&#x27;.</td>\n",
       "        <td>10258</td>\n",
       "        <td>20</td>\n",
       "        <td>1</td>\n",
       "        <td>17.07.1996</td>\n",
       "        <td>1</td>\n",
       "    </tr>\n",
       "    <tr>\n",
       "        <td>1</td>\n",
       "        <td>Davolio</td>\n",
       "        <td>Nancy</td>\n",
       "        <td>8.12.1968</td>\n",
       "        <td>EmpID1.pic</td>\n",
       "        <td>Education includes a BA in psychology from Colorado State University. She also completed (The Art of the Cold Call). Nancy is a member of &#x27;Toastmasters International&#x27;.</td>\n",
       "        <td>10270</td>\n",
       "        <td>87</td>\n",
       "        <td>1</td>\n",
       "        <td>1.08.1996</td>\n",
       "        <td>1</td>\n",
       "    </tr>\n",
       "    <tr>\n",
       "        <td>1</td>\n",
       "        <td>Davolio</td>\n",
       "        <td>Nancy</td>\n",
       "        <td>8.12.1968</td>\n",
       "        <td>EmpID1.pic</td>\n",
       "        <td>Education includes a BA in psychology from Colorado State University. She also completed (The Art of the Cold Call). Nancy is a member of &#x27;Toastmasters International&#x27;.</td>\n",
       "        <td>10275</td>\n",
       "        <td>49</td>\n",
       "        <td>1</td>\n",
       "        <td>7.08.1996</td>\n",
       "        <td>1</td>\n",
       "    </tr>\n",
       "</table>"
      ],
      "text/plain": [
       "[(1, 'Davolio', 'Nancy', '8.12.1968', 'EmpID1.pic', \"Education includes a BA in psychology from Colorado State University. She also completed (The Art of the Cold Call). Nancy is a member of 'Toastmasters International'.\", 10258, 20, 1, '17.07.1996', 1),\n",
       " (1, 'Davolio', 'Nancy', '8.12.1968', 'EmpID1.pic', \"Education includes a BA in psychology from Colorado State University. She also completed (The Art of the Cold Call). Nancy is a member of 'Toastmasters International'.\", 10270, 87, 1, '1.08.1996', 1),\n",
       " (1, 'Davolio', 'Nancy', '8.12.1968', 'EmpID1.pic', \"Education includes a BA in psychology from Colorado State University. She also completed (The Art of the Cold Call). Nancy is a member of 'Toastmasters International'.\", 10275, 49, 1, '7.08.1996', 1)]"
      ]
     },
     "execution_count": 33,
     "metadata": {},
     "output_type": "execute_result"
    }
   ],
   "source": [
    "%%sql\n",
    "SELECT * FROM Employees LEFT OUTER JOIN Orders ON Employees.EmployeeID = Orders.EmployeeID LIMIT 3;"
   ]
  },
  {
   "cell_type": "markdown",
   "id": "284dc4ec-2387-408f-a618-e01141993deb",
   "metadata": {
    "tags": []
   },
   "source": [
    "#### 16. Almanya'dan verilen siparişlerin kategorilerine göre ortalama fiyatları nelerdir?"
   ]
  },
  {
   "cell_type": "code",
   "execution_count": 79,
   "id": "244d7bbb-6db0-4da4-af68-bc36e2e6581b",
   "metadata": {},
   "outputs": [
    {
     "name": "stdout",
     "output_type": "stream",
     "text": [
      " * sqlite:///veri_tabani_ilk.db\n",
      "Done.\n"
     ]
    },
    {
     "data": {
      "text/html": [
       "<table>\n",
       "    <tr>\n",
       "        <th>CategoryName</th>\n",
       "        <th>AVG(Price)</th>\n",
       "    </tr>\n",
       "    <tr>\n",
       "        <td>Beverages</td>\n",
       "        <td>20.5</td>\n",
       "    </tr>\n",
       "    <tr>\n",
       "        <td>Condiments</td>\n",
       "        <td>34.0</td>\n",
       "    </tr>\n",
       "    <tr>\n",
       "        <td>Confections</td>\n",
       "        <td>40.0</td>\n",
       "    </tr>\n",
       "    <tr>\n",
       "        <td>Dairy Products</td>\n",
       "        <td>151.64705882352942</td>\n",
       "    </tr>\n",
       "    <tr>\n",
       "        <td>Grains/Cereals</td>\n",
       "        <td>22.142857142857142</td>\n",
       "    </tr>\n",
       "    <tr>\n",
       "        <td>Meat/Poultry</td>\n",
       "        <td>30.2</td>\n",
       "    </tr>\n",
       "    <tr>\n",
       "        <td>Produce</td>\n",
       "        <td>30.75</td>\n",
       "    </tr>\n",
       "    <tr>\n",
       "        <td>Seafood</td>\n",
       "        <td>27.09090909090909</td>\n",
       "    </tr>\n",
       "</table>"
      ],
      "text/plain": [
       "[('Beverages', 20.5),\n",
       " ('Condiments', 34.0),\n",
       " ('Confections', 40.0),\n",
       " ('Dairy Products', 151.64705882352942),\n",
       " ('Grains/Cereals', 22.142857142857142),\n",
       " ('Meat/Poultry', 30.2),\n",
       " ('Produce', 30.75),\n",
       " ('Seafood', 27.09090909090909)]"
      ]
     },
     "execution_count": 79,
     "metadata": {},
     "output_type": "execute_result"
    }
   ],
   "source": [
    "%%sql\n",
    "SELECT CategoryName, AVG(Price) FROM Orders\n",
    "LEFT OUTER JOIN OrderDetails ON Orders.OrderID = OrderDetails.OrderID\n",
    "LEFT OUTER JOIN Customers ON Orders.CustomerID = Customers.CustomerID\n",
    "LEFT OUTER JOIN Products ON OrderDetails.ProductID = Products.ProductID\n",
    "LEFT OUTER JOIN Categories ON Categories.CategoryID = Products.CategoryID\n",
    "WHERE Country = 'Germany'\n",
    "GROUP BY CategoryName;"
   ]
  },
  {
   "cell_type": "markdown",
   "id": "4aefc26d-d6d4-4534-9ab4-92c84c969801",
   "metadata": {
    "tags": []
   },
   "source": [
    "#### 17. Almanya ya da USA'den verilen siparişlerin kategorilerine göre ortalama fiyatları nedir?"
   ]
  },
  {
   "cell_type": "code",
   "execution_count": 80,
   "id": "fdb44afc-bcbc-46e1-98be-c38b4d731aea",
   "metadata": {},
   "outputs": [
    {
     "name": "stdout",
     "output_type": "stream",
     "text": [
      " * sqlite:///veri_tabani_ilk.db\n",
      "Done.\n"
     ]
    },
    {
     "data": {
      "text/html": [
       "<table>\n",
       "    <tr>\n",
       "        <th>CategoryName</th>\n",
       "        <th>AVG(Price)</th>\n",
       "    </tr>\n",
       "    <tr>\n",
       "        <td>Beverages</td>\n",
       "        <td>29.88888888888889</td>\n",
       "    </tr>\n",
       "    <tr>\n",
       "        <td>Condiments</td>\n",
       "        <td>34.72727272727273</td>\n",
       "    </tr>\n",
       "    <tr>\n",
       "        <td>Confections</td>\n",
       "        <td>39.92307692307692</td>\n",
       "    </tr>\n",
       "    <tr>\n",
       "        <td>Dairy Products</td>\n",
       "        <td>131.75862068965517</td>\n",
       "    </tr>\n",
       "    <tr>\n",
       "        <td>Grains/Cereals</td>\n",
       "        <td>29.846153846153847</td>\n",
       "    </tr>\n",
       "    <tr>\n",
       "        <td>Meat/Poultry</td>\n",
       "        <td>46.75</td>\n",
       "    </tr>\n",
       "    <tr>\n",
       "        <td>Produce</td>\n",
       "        <td>28.625</td>\n",
       "    </tr>\n",
       "    <tr>\n",
       "        <td>Seafood</td>\n",
       "        <td>25.6</td>\n",
       "    </tr>\n",
       "</table>"
      ],
      "text/plain": [
       "[('Beverages', 29.88888888888889),\n",
       " ('Condiments', 34.72727272727273),\n",
       " ('Confections', 39.92307692307692),\n",
       " ('Dairy Products', 131.75862068965517),\n",
       " ('Grains/Cereals', 29.846153846153847),\n",
       " ('Meat/Poultry', 46.75),\n",
       " ('Produce', 28.625),\n",
       " ('Seafood', 25.6)]"
      ]
     },
     "execution_count": 80,
     "metadata": {},
     "output_type": "execute_result"
    }
   ],
   "source": [
    "%%sql\n",
    "SELECT CategoryName, AVG(Price) FROM Orders\n",
    "LEFT OUTER JOIN OrderDetails ON Orders.OrderID = OrderDetails.OrderID\n",
    "LEFT OUTER JOIN Customers ON Orders.CustomerID = Customers.CustomerID\n",
    "LEFT OUTER JOIN Products ON OrderDetails.ProductID = Products.ProductID\n",
    "LEFT OUTER JOIN Categories ON Categories.CategoryID = Products.CategoryID\n",
    "WHERE Country IN ('Germany', 'USA')\n",
    "GROUP BY CategoryName;"
   ]
  },
  {
   "cell_type": "markdown",
   "id": "2c792ee3-a0df-4361-9bab-a07a22adf7c5",
   "metadata": {
    "tags": []
   },
   "source": [
    "#### 18. Temmuz, Ağustos, Eylül aylarında verilen siparişlerin ortalama fiyatı nedir?"
   ]
  },
  {
   "cell_type": "code",
   "execution_count": 95,
   "id": "98253d89-f0c9-4f92-afd7-abe9265dcd77",
   "metadata": {},
   "outputs": [
    {
     "name": "stdout",
     "output_type": "stream",
     "text": [
      " * sqlite:///veri_tabani_ilk.db\n",
      "Done.\n"
     ]
    },
    {
     "data": {
      "text/html": [
       "<table>\n",
       "    <tr>\n",
       "        <th>AVG(Price)</th>\n",
       "    </tr>\n",
       "    <tr>\n",
       "        <td>38.0</td>\n",
       "    </tr>\n",
       "</table>"
      ],
      "text/plain": [
       "[(38.0,)]"
      ]
     },
     "execution_count": 95,
     "metadata": {},
     "output_type": "execute_result"
    }
   ],
   "source": [
    "%%sql\n",
    "SELECT AVG(Price) FROM Orders\n",
    "LEFT OUTER JOIN OrderDetails ON Orders.OrderID = OrderDetails.OrderID\n",
    "LEFT OUTER JOIN Products ON OrderDetails.ProductID = Products.ProductID\n",
    "WHERE OrderDate LIKE '%.07.%';"
   ]
  },
  {
   "cell_type": "code",
   "execution_count": 96,
   "id": "1fce0b40-1d58-4b7f-b7ce-5a63d9d7a705",
   "metadata": {},
   "outputs": [
    {
     "name": "stdout",
     "output_type": "stream",
     "text": [
      " * sqlite:///veri_tabani_ilk.db\n",
      "Done.\n"
     ]
    },
    {
     "data": {
      "text/html": [
       "<table>\n",
       "    <tr>\n",
       "        <th>AVG(Price)</th>\n",
       "    </tr>\n",
       "    <tr>\n",
       "        <td>46.30434782608695</td>\n",
       "    </tr>\n",
       "</table>"
      ],
      "text/plain": [
       "[(46.30434782608695,)]"
      ]
     },
     "execution_count": 96,
     "metadata": {},
     "output_type": "execute_result"
    }
   ],
   "source": [
    "%%sql\n",
    "SELECT AVG(Price) FROM Orders\n",
    "LEFT OUTER JOIN OrderDetails ON Orders.OrderID = OrderDetails.OrderID\n",
    "LEFT OUTER JOIN Products ON OrderDetails.ProductID = Products.ProductID\n",
    "WHERE OrderDate LIKE '%.08.%';"
   ]
  },
  {
   "cell_type": "code",
   "execution_count": 97,
   "id": "ef1c69ed-7d18-4ffd-ae6f-3db4d27749c3",
   "metadata": {},
   "outputs": [
    {
     "name": "stdout",
     "output_type": "stream",
     "text": [
      " * sqlite:///veri_tabani_ilk.db\n",
      "Done.\n"
     ]
    },
    {
     "data": {
      "text/html": [
       "<table>\n",
       "    <tr>\n",
       "        <th>AVG(Price)</th>\n",
       "    </tr>\n",
       "    <tr>\n",
       "        <td>33.526315789473685</td>\n",
       "    </tr>\n",
       "</table>"
      ],
      "text/plain": [
       "[(33.526315789473685,)]"
      ]
     },
     "execution_count": 97,
     "metadata": {},
     "output_type": "execute_result"
    }
   ],
   "source": [
    "%%sql\n",
    "SELECT AVG(Price) FROM Orders\n",
    "LEFT OUTER JOIN OrderDetails ON Orders.OrderID = OrderDetails.OrderID\n",
    "LEFT OUTER JOIN Products ON OrderDetails.ProductID = Products.ProductID\n",
    "WHERE OrderDate LIKE '%.09.%';"
   ]
  },
  {
   "cell_type": "markdown",
   "id": "bb8069e8-4f2a-4e34-b554-c2c82f79c304",
   "metadata": {
    "tags": []
   },
   "source": [
    "#### 19. Müşterilerin 1997 yılına ait siparişlerinin maksimum miktarlarını bulup müşterilerin isimleri ile birlikte büyükten küçüğe sıralayınız."
   ]
  },
  {
   "cell_type": "code",
   "execution_count": 106,
   "id": "805f2dcd-3eba-48c7-862a-280215405132",
   "metadata": {},
   "outputs": [
    {
     "name": "stdout",
     "output_type": "stream",
     "text": [
      " * sqlite:///veri_tabani_ilk.db\n",
      "Done.\n"
     ]
    },
    {
     "data": {
      "text/html": [
       "<table>\n",
       "    <tr>\n",
       "        <th>CustomerName</th>\n",
       "        <th>Total</th>\n",
       "    </tr>\n",
       "    <tr>\n",
       "        <td>Blondel père et fils</td>\n",
       "        <td>60</td>\n",
       "    </tr>\n",
       "    <tr>\n",
       "        <td>Franchi S.p.A.</td>\n",
       "        <td>62</td>\n",
       "    </tr>\n",
       "    <tr>\n",
       "        <td>Hungry Coyote Import Store</td>\n",
       "        <td>78</td>\n",
       "    </tr>\n",
       "    <tr>\n",
       "        <td>Folk och fä HB</td>\n",
       "        <td>126</td>\n",
       "    </tr>\n",
       "    <tr>\n",
       "        <td>Que Delícia</td>\n",
       "        <td>172</td>\n",
       "    </tr>\n",
       "    <tr>\n",
       "        <td>Queen Cozinha</td>\n",
       "        <td>180</td>\n",
       "    </tr>\n",
       "    <tr>\n",
       "        <td>Consolidated Holdings</td>\n",
       "        <td>190</td>\n",
       "    </tr>\n",
       "    <tr>\n",
       "        <td>Galería del gastrónomo</td>\n",
       "        <td>190</td>\n",
       "    </tr>\n",
       "    <tr>\n",
       "        <td>Reggiani Caseifici</td>\n",
       "        <td>240</td>\n",
       "    </tr>\n",
       "    <tr>\n",
       "        <td>Folies gourmandes</td>\n",
       "        <td>260</td>\n",
       "    </tr>\n",
       "    <tr>\n",
       "        <td>Océano Atlántico Ltda.</td>\n",
       "        <td>276</td>\n",
       "    </tr>\n",
       "    <tr>\n",
       "        <td>Split Rail Beer &amp; Ale</td>\n",
       "        <td>310</td>\n",
       "    </tr>\n",
       "    <tr>\n",
       "        <td>La maison d&#x27;Asie</td>\n",
       "        <td>432</td>\n",
       "    </tr>\n",
       "    <tr>\n",
       "        <td>Rattlesnake Canyon Grocery</td>\n",
       "        <td>450</td>\n",
       "    </tr>\n",
       "    <tr>\n",
       "        <td>Wartian Herkku</td>\n",
       "        <td>460</td>\n",
       "    </tr>\n",
       "    <tr>\n",
       "        <td>LINO-Delicateses</td>\n",
       "        <td>500</td>\n",
       "    </tr>\n",
       "    <tr>\n",
       "        <td>Ernst Handel</td>\n",
       "        <td>540</td>\n",
       "    </tr>\n",
       "    <tr>\n",
       "        <td>Ottilies Käseladen</td>\n",
       "        <td>630</td>\n",
       "    </tr>\n",
       "    <tr>\n",
       "        <td>Hungry Owl All-Night Grocers</td>\n",
       "        <td>640</td>\n",
       "    </tr>\n",
       "    <tr>\n",
       "        <td>Toms Spezialitäten</td>\n",
       "        <td>645</td>\n",
       "    </tr>\n",
       "    <tr>\n",
       "        <td>Familia Arquibaldo</td>\n",
       "        <td>774</td>\n",
       "    </tr>\n",
       "    <tr>\n",
       "        <td>Piccolo und mehr</td>\n",
       "        <td>805</td>\n",
       "    </tr>\n",
       "    <tr>\n",
       "        <td>Save-a-lot Markets</td>\n",
       "        <td>855</td>\n",
       "    </tr>\n",
       "    <tr>\n",
       "        <td>Magazzini Alimentari Riuniti</td>\n",
       "        <td>930</td>\n",
       "    </tr>\n",
       "    <tr>\n",
       "        <td>Princesa Isabel Vinhoss</td>\n",
       "        <td>1064</td>\n",
       "    </tr>\n",
       "    <tr>\n",
       "        <td>Mère Paillarde</td>\n",
       "        <td>1080</td>\n",
       "    </tr>\n",
       "    <tr>\n",
       "        <td>QUICK-Stop</td>\n",
       "        <td>1140</td>\n",
       "    </tr>\n",
       "    <tr>\n",
       "        <td>Wellington Importadora</td>\n",
       "        <td>1940</td>\n",
       "    </tr>\n",
       "    <tr>\n",
       "        <td>Richter Supermarkt</td>\n",
       "        <td>2040</td>\n",
       "    </tr>\n",
       "    <tr>\n",
       "        <td>Bottom-Dollar Marketse</td>\n",
       "        <td>2107</td>\n",
       "    </tr>\n",
       "    <tr>\n",
       "        <td>Old World Delicatessen</td>\n",
       "        <td>2150</td>\n",
       "    </tr>\n",
       "    <tr>\n",
       "        <td>Eastern Connection</td>\n",
       "        <td>2583</td>\n",
       "    </tr>\n",
       "    <tr>\n",
       "        <td>Gourmet Lanchonetes</td>\n",
       "        <td>6090</td>\n",
       "    </tr>\n",
       "    <tr>\n",
       "        <td>Simons bistro</td>\n",
       "        <td>13150</td>\n",
       "    </tr>\n",
       "</table>"
      ],
      "text/plain": [
       "[('Blondel père et fils', 60),\n",
       " ('Franchi S.p.A.', 62),\n",
       " ('Hungry Coyote Import Store', 78),\n",
       " ('Folk och fä HB', 126),\n",
       " ('Que Delícia', 172),\n",
       " ('Queen Cozinha', 180),\n",
       " ('Consolidated Holdings', 190),\n",
       " ('Galería del gastrónomo', 190),\n",
       " ('Reggiani Caseifici', 240),\n",
       " ('Folies gourmandes', 260),\n",
       " ('Océano Atlántico Ltda.', 276),\n",
       " ('Split Rail Beer & Ale', 310),\n",
       " (\"La maison d'Asie\", 432),\n",
       " ('Rattlesnake Canyon Grocery', 450),\n",
       " ('Wartian Herkku', 460),\n",
       " ('LINO-Delicateses', 500),\n",
       " ('Ernst Handel', 540),\n",
       " ('Ottilies Käseladen', 630),\n",
       " ('Hungry Owl All-Night Grocers', 640),\n",
       " ('Toms Spezialitäten', 645),\n",
       " ('Familia Arquibaldo', 774),\n",
       " ('Piccolo und mehr', 805),\n",
       " ('Save-a-lot Markets', 855),\n",
       " ('Magazzini Alimentari Riuniti', 930),\n",
       " ('Princesa Isabel Vinhoss', 1064),\n",
       " ('Mère Paillarde', 1080),\n",
       " ('QUICK-Stop', 1140),\n",
       " ('Wellington Importadora', 1940),\n",
       " ('Richter Supermarkt', 2040),\n",
       " ('Bottom-Dollar Marketse', 2107),\n",
       " ('Old World Delicatessen', 2150),\n",
       " ('Eastern Connection', 2583),\n",
       " ('Gourmet Lanchonetes', 6090),\n",
       " ('Simons bistro', 13150)]"
      ]
     },
     "execution_count": 106,
     "metadata": {},
     "output_type": "execute_result"
    }
   ],
   "source": [
    "%%sql\n",
    "SELECT CustomerName, Price * Quantity AS Total FROM Orders\n",
    "LEFT OUTER JOIN OrderDetails ON Orders.OrderID = OrderDetails.OrderID\n",
    "LEFT OUTER JOIN Customers ON Orders.CustomerID = Customers.CustomerID\n",
    "LEFT OUTER JOIN Products ON OrderDetails.ProductID = Products.ProductID\n",
    "LEFT OUTER JOIN Categories ON Categories.CategoryID = Products.CategoryID\n",
    "WHERE OrderDate LIKE '%.1997'\n",
    "GROUP BY CustomerName\n",
    "ORDER BY Total;"
   ]
  },
  {
   "cell_type": "markdown",
   "id": "005316c0-e3e3-401e-8bd0-6d66de0a309e",
   "metadata": {
    "tags": []
   },
   "source": [
    "#### 20. Sipariş yılı 1997 olan siparişleri alan çalışanları sipariş alma sayılarına göre sıralayınız."
   ]
  },
  {
   "cell_type": "code",
   "execution_count": 125,
   "id": "decb7b49-4384-4f6e-bef9-e29dc8e3766b",
   "metadata": {},
   "outputs": [
    {
     "name": "stdout",
     "output_type": "stream",
     "text": [
      " * sqlite:///veri_tabani_ilk.db\n",
      "Done.\n"
     ]
    },
    {
     "data": {
      "text/html": [
       "<table>\n",
       "    <tr>\n",
       "        <th>FullName</th>\n",
       "        <th>COUNT(*)</th>\n",
       "    </tr>\n",
       "    <tr>\n",
       "        <td>Janet Leverling</td>\n",
       "        <td>31</td>\n",
       "    </tr>\n",
       "    <tr>\n",
       "        <td>Margaret Peacock</td>\n",
       "        <td>26</td>\n",
       "    </tr>\n",
       "    <tr>\n",
       "        <td>Laura Callahan</td>\n",
       "        <td>19</td>\n",
       "    </tr>\n",
       "    <tr>\n",
       "        <td>Robert King</td>\n",
       "        <td>9</td>\n",
       "    </tr>\n",
       "    <tr>\n",
       "        <td>Andrew Fuller</td>\n",
       "        <td>9</td>\n",
       "    </tr>\n",
       "    <tr>\n",
       "        <td>Nancy Davolio</td>\n",
       "        <td>8</td>\n",
       "    </tr>\n",
       "    <tr>\n",
       "        <td>Michael Suyama</td>\n",
       "        <td>8</td>\n",
       "    </tr>\n",
       "    <tr>\n",
       "        <td>Anne Dodsworth</td>\n",
       "        <td>3</td>\n",
       "    </tr>\n",
       "</table>"
      ],
      "text/plain": [
       "[('Janet Leverling', 31),\n",
       " ('Margaret Peacock', 26),\n",
       " ('Laura Callahan', 19),\n",
       " ('Robert King', 9),\n",
       " ('Andrew Fuller', 9),\n",
       " ('Nancy Davolio', 8),\n",
       " ('Michael Suyama', 8),\n",
       " ('Anne Dodsworth', 3)]"
      ]
     },
     "execution_count": 125,
     "metadata": {},
     "output_type": "execute_result"
    }
   ],
   "source": [
    "%%sql\n",
    "SELECT FirstName || ' ' || LastName AS FullName, COUNT(*) FROM Employees \n",
    "LEFT OUTER JOIN Orders ON Orders.EmployeeID = Employees.EmployeeID\n",
    "LEFT OUTER JOIN OrderDetails ON OrderDetails.OrderID = Orders.OrderID\n",
    "LEFT OUTER JOIN Products ON Products.ProductID = OrderDetails.ProductID\n",
    "WHERE OrderDate LIKE '%.1997'\n",
    "GROUP BY FullName\n",
    "ORDER BY COUNT(*) DESC;"
   ]
  },
  {
   "cell_type": "code",
   "execution_count": 110,
   "id": "60107366-0e4f-4338-bdad-94860ccd565b",
   "metadata": {},
   "outputs": [
    {
     "name": "stdout",
     "output_type": "stream",
     "text": [
      " * sqlite:///veri_tabani_ilk.db\n",
      "Done.\n"
     ]
    },
    {
     "data": {
      "text/html": [
       "<table>\n",
       "    <tr>\n",
       "        <th>ProductID</th>\n",
       "        <th>ProductName</th>\n",
       "        <th>SupplierID</th>\n",
       "        <th>CategoryID</th>\n",
       "        <th>Unit</th>\n",
       "        <th>Price</th>\n",
       "    </tr>\n",
       "    <tr>\n",
       "        <td>1</td>\n",
       "        <td>Chais</td>\n",
       "        <td>1</td>\n",
       "        <td>1</td>\n",
       "        <td>10 boxes x 20 bags</td>\n",
       "        <td>18</td>\n",
       "    </tr>\n",
       "</table>"
      ],
      "text/plain": [
       "[(1, 'Chais', 1, 1, '10 boxes x 20 bags', 18)]"
      ]
     },
     "execution_count": 110,
     "metadata": {},
     "output_type": "execute_result"
    }
   ],
   "source": [
    "%%sql\n",
    "SELECT * FROM Products LIMIT 1"
   ]
  },
  {
   "cell_type": "code",
   "execution_count": 111,
   "id": "17309e3f-673b-41a2-84e4-8effbdb03c9f",
   "metadata": {},
   "outputs": [
    {
     "name": "stdout",
     "output_type": "stream",
     "text": [
      " * sqlite:///veri_tabani_ilk.db\n",
      "Done.\n"
     ]
    },
    {
     "data": {
      "text/html": [
       "<table>\n",
       "    <tr>\n",
       "        <th>OrderID</th>\n",
       "        <th>CustomerID</th>\n",
       "        <th>EmployeeID</th>\n",
       "        <th>OrderDate</th>\n",
       "        <th>ShipperID</th>\n",
       "    </tr>\n",
       "    <tr>\n",
       "        <td>10248</td>\n",
       "        <td>90</td>\n",
       "        <td>5</td>\n",
       "        <td>4.07.1996</td>\n",
       "        <td>3</td>\n",
       "    </tr>\n",
       "</table>"
      ],
      "text/plain": [
       "[(10248, 90, 5, '4.07.1996', 3)]"
      ]
     },
     "execution_count": 111,
     "metadata": {},
     "output_type": "execute_result"
    }
   ],
   "source": [
    "%%sql\n",
    "SELECT * FROM Orders LIMIT 1"
   ]
  },
  {
   "cell_type": "code",
   "execution_count": 112,
   "id": "1c866502-bafe-4b1f-abcc-f9af8a86ee8d",
   "metadata": {},
   "outputs": [
    {
     "name": "stdout",
     "output_type": "stream",
     "text": [
      " * sqlite:///veri_tabani_ilk.db\n",
      "Done.\n"
     ]
    },
    {
     "data": {
      "text/html": [
       "<table>\n",
       "    <tr>\n",
       "        <th>OrderDetailID</th>\n",
       "        <th>OrderID</th>\n",
       "        <th>ProductID</th>\n",
       "        <th>Quantity</th>\n",
       "    </tr>\n",
       "    <tr>\n",
       "        <td>1</td>\n",
       "        <td>10248</td>\n",
       "        <td>11</td>\n",
       "        <td>12</td>\n",
       "    </tr>\n",
       "</table>"
      ],
      "text/plain": [
       "[(1, 10248, 11, 12)]"
      ]
     },
     "execution_count": 112,
     "metadata": {},
     "output_type": "execute_result"
    }
   ],
   "source": [
    "%%sql\n",
    "SELECT * FROM OrderDetails LIMIT 1"
   ]
  },
  {
   "cell_type": "code",
   "execution_count": null,
   "id": "6743a9df-ccd1-4434-bd2f-ab11bf77b6b1",
   "metadata": {},
   "outputs": [],
   "source": [
    "%%sql\n",
    "SELECT * FROM Orders LIMIT 1"
   ]
  }
 ],
 "metadata": {
  "kernelspec": {
   "display_name": "Python 3 (ipykernel)",
   "language": "python",
   "name": "python3"
  },
  "language_info": {
   "codemirror_mode": {
    "name": "ipython",
    "version": 3
   },
   "file_extension": ".py",
   "mimetype": "text/x-python",
   "name": "python",
   "nbconvert_exporter": "python",
   "pygments_lexer": "ipython3",
   "version": "3.9.12"
  }
 },
 "nbformat": 4,
 "nbformat_minor": 5
}
